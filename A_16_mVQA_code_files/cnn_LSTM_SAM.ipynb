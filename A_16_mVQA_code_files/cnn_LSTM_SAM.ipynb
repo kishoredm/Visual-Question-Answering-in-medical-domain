{
 "cells": [
  {
   "cell_type": "code",
   "execution_count": 1,
   "metadata": {},
   "outputs": [
    {
     "name": "stdout",
     "output_type": "stream",
     "text": [
      "WARNING:tensorflow:From C:\\Users\\Steven J\\AppData\\Local\\Packages\\PythonSoftwareFoundation.Python.3.9_qbz5n2kfra8p0\\LocalCache\\local-packages\\Python39\\site-packages\\keras\\src\\losses.py:2976: The name tf.losses.sparse_softmax_cross_entropy is deprecated. Please use tf.compat.v1.losses.sparse_softmax_cross_entropy instead.\n",
      "\n"
     ]
    }
   ],
   "source": [
    "import numpy as np\n",
    "import pandas as pd\n",
    "import matplotlib.pyplot as plt\n",
    "import seaborn as sns\n",
    "from tqdm import tqdm\n",
    "import os\n",
    "import cv2\n",
    "import torch\n",
    "import torch.nn as nn\n",
    "import torch.optim as optim\n",
    "from torch.utils.data import DataLoader, Dataset, random_split\n",
    "from torchvision import transforms, models\n",
    "from sklearn.model_selection import train_test_split\n",
    "from sklearn.metrics import precision_recall_fscore_support, accuracy_score\n",
    "from keras.preprocessing.text import Tokenizer\n",
    "from keras.utils import pad_sequences\n",
    "import warnings\n",
    "warnings.filterwarnings(\"ignore\")\n",
    "from PIL import Image"
   ]
  },
  {
   "cell_type": "code",
   "execution_count": 2,
   "metadata": {},
   "outputs": [],
   "source": [
    "# Load metadata\n",
    "metadata = pd.read_excel(\"D:\\\\My_Acad\\\\VS_Code\\\\Sem_6_code\\\\DL\\\\project\\\\kishore_code\\\\VQA_RAD Dataset Public.xlsx\")"
   ]
  },
  {
   "cell_type": "code",
   "execution_count": 3,
   "metadata": {},
   "outputs": [
    {
     "name": "stdout",
     "output_type": "stream",
     "text": [
      "<class 'pandas.core.frame.DataFrame'>\n",
      "RangeIndex: 2248 entries, 0 to 2247\n",
      "Data columns (total 14 columns):\n",
      " #   Column        Non-Null Count  Dtype \n",
      "---  ------        --------------  ----- \n",
      " 0   QID_unique    2248 non-null   int64 \n",
      " 1   QID_para      2248 non-null   object\n",
      " 2   QID_linked    2248 non-null   object\n",
      " 3   IMAGEID_case  2248 non-null   object\n",
      " 4   IMAGEID       2248 non-null   object\n",
      " 5   IMAGEORGAN    2248 non-null   object\n",
      " 6   EVALUATION    2248 non-null   object\n",
      " 7   QUESTION      2248 non-null   object\n",
      " 8   Q_REPHASE     1776 non-null   object\n",
      " 9   Q_RELATION    1487 non-null   object\n",
      " 10  Q_FRAMED      1267 non-null   object\n",
      " 11  Q_TYPE        2248 non-null   object\n",
      " 12  ANSWER        2247 non-null   object\n",
      " 13  A_TYPE        2248 non-null   object\n",
      "dtypes: int64(1), object(13)\n",
      "memory usage: 246.0+ KB\n"
     ]
    }
   ],
   "source": [
    "metadata.info()"
   ]
  },
  {
   "cell_type": "code",
   "execution_count": 4,
   "metadata": {},
   "outputs": [
    {
     "data": {
      "text/plain": [
       "Q_TYPE\n",
       "PRES            800\n",
       "POS             316\n",
       "ABN             202\n",
       "OTHER           194\n",
       "MODALITY        185\n",
       "SIZE            171\n",
       "PLANE           120\n",
       "ATTRIB           87\n",
       "ORGAN            59\n",
       "COLOR            52\n",
       "COUNT            24\n",
       "POS, PRES         6\n",
       "PRES, ATTRIB      6\n",
       "PRES, POS         4\n",
       "ATTRIB, PRES      4\n",
       "ABN, POS          3\n",
       "SIZE, PRES        2\n",
       "Other             2\n",
       "COLOR, PRES       2\n",
       "POS, ABN          2\n",
       "SIZE, COLOR       2\n",
       "ATTRIB, SIZE      1\n",
       "PRES, ABN         1\n",
       "PRES, COLOR       1\n",
       "ATRIB             1\n",
       "PRSE              1\n",
       "Name: count, dtype: int64"
      ]
     },
     "execution_count": 4,
     "metadata": {},
     "output_type": "execute_result"
    }
   ],
   "source": [
    "metadata[\"Q_TYPE\"].value_counts()"
   ]
  },
  {
   "cell_type": "code",
   "execution_count": 5,
   "metadata": {},
   "outputs": [
    {
     "data": {
      "text/plain": [
       "QID_unique        0\n",
       "QID_para          0\n",
       "QID_linked        0\n",
       "IMAGEID_case      0\n",
       "IMAGEID           0\n",
       "IMAGEORGAN        0\n",
       "EVALUATION        0\n",
       "QUESTION          0\n",
       "Q_REPHASE       472\n",
       "Q_RELATION      761\n",
       "Q_FRAMED        981\n",
       "Q_TYPE            0\n",
       "ANSWER            1\n",
       "A_TYPE            0\n",
       "dtype: int64"
      ]
     },
     "execution_count": 5,
     "metadata": {},
     "output_type": "execute_result"
    }
   ],
   "source": [
    "metadata.isna().sum()"
   ]
  },
  {
   "cell_type": "code",
   "execution_count": 6,
   "metadata": {},
   "outputs": [
    {
     "data": {
      "text/plain": [
       "A_TYPE\n",
       "CLOSED     1297\n",
       "OPEN        949\n",
       "CLOSED        2\n",
       "Name: count, dtype: int64"
      ]
     },
     "execution_count": 6,
     "metadata": {},
     "output_type": "execute_result"
    }
   ],
   "source": [
    "metadata[\"A_TYPE\"].value_counts()"
   ]
  },
  {
   "cell_type": "code",
   "execution_count": 7,
   "metadata": {},
   "outputs": [
    {
     "data": {
      "text/plain": [
       "ANSWER\n",
       "No                                      486\n",
       "Yes                                     347\n",
       "yes                                     239\n",
       "no                                      120\n",
       "Axial                                    28\n",
       "Right                                    22\n",
       "Left                                     18\n",
       "PA                                       15\n",
       "axial                                    15\n",
       "CT                                       13\n",
       "Brain                                    10\n",
       "MRI                                       8\n",
       "Right side                                8\n",
       "fat                                       7\n",
       "Right upper lobe                          7\n",
       "Right lung                                7\n",
       "5.6cm focal, predominantly hypodense      6\n",
       "Bilateral                                 6\n",
       "Diffuse                                   6\n",
       "Left kidney                               6\n",
       "Name: count, dtype: int64"
      ]
     },
     "execution_count": 7,
     "metadata": {},
     "output_type": "execute_result"
    }
   ],
   "source": [
    "metadata[\"ANSWER\"].value_counts()[:20]"
   ]
  },
  {
   "cell_type": "code",
   "execution_count": 8,
   "metadata": {},
   "outputs": [
    {
     "data": {
      "text/plain": [
       "<Axes: xlabel='IMAGEORGAN'>"
      ]
     },
     "execution_count": 8,
     "metadata": {},
     "output_type": "execute_result"
    },
    {
     "data": {
      "image/png": "[encoded data removed]",
      "text/plain": [
       "<Figure size 640x480 with 1 Axes>"
      ]
     },
     "metadata": {},
     "output_type": "display_data"
    }
   ],
   "source": [
    "metadata[\"IMAGEORGAN\"].value_counts().plot.bar()"
   ]
  },
  {
   "cell_type": "code",
   "execution_count": 9,
   "metadata": {},
   "outputs": [],
   "source": [
    "# Filter metadata to include only entries with A_TYPE as \"CLOSED\"\n",
    "metadata = metadata[metadata[\"A_TYPE\"] == \"CLOSED\"]"
   ]
  },
  {
   "cell_type": "code",
   "execution_count": 10,
   "metadata": {},
   "outputs": [],
   "source": [
    "# Further filter metadata to include only entries with \"yes\" and \"no\" answers\n",
    "sampledata = metadata[(metadata[\"ANSWER\"].str.lower() == \"yes\") | (metadata[\"ANSWER\"].str.lower() == \"no\")]\n",
    "sampledata.reset_index(inplace=True, drop=True)"
   ]
  },
  {
   "cell_type": "code",
   "execution_count": 11,
   "metadata": {},
   "outputs": [
    {
     "name": "stdout",
     "output_type": "stream",
     "text": [
      "[1 0 0 ... 1 1 1]\n"
     ]
    }
   ],
   "source": [
    "# Convert answers to binary labels\n",
    "labels = sampledata[\"ANSWER\"].str.lower().map({'yes': 1, 'no': 0}).values\n",
    "print(labels)"
   ]
  },
  {
   "cell_type": "code",
   "execution_count": 12,
   "metadata": {},
   "outputs": [],
   "source": [
    "# Tokenize questions\n",
    "docx = sampledata[\"QUESTION\"].tolist()\n",
    "tokenizer = Tokenizer(oov_token=\"<nothing>\")\n",
    "tokenizer.fit_on_texts(docx)\n",
    "sequences = tokenizer.texts_to_sequences(docx)\n",
    "sequences = pad_sequences(sequences, padding=\"post\", maxlen=10)"
   ]
  },
  {
   "cell_type": "code",
   "execution_count": 13,
   "metadata": {},
   "outputs": [
    {
     "name": "stdout",
     "output_type": "stream",
     "text": [
      "[[  9 478   8 ...   0   0   0]\n",
      " [  9   3  49 ...   0   0   0]\n",
      " [  2   4  15 ...   0   0   0]\n",
      " ...\n",
      " [  2   4 458 ...   0   0   0]\n",
      " [  2   5   7 ...   0   0   0]\n",
      " [  2   5  82 ... 204   0   0]]\n"
     ]
    }
   ],
   "source": [
    "print(sequences)"
   ]
  },
  {
   "cell_type": "code",
   "execution_count": 14,
   "metadata": {},
   "outputs": [],
   "source": [
    "# Prepare image addresses\n",
    "IMGDIR = \"D:\\\\My_Acad\\\\VS_Code\\\\Sem_6_code\\\\DL\\\\project\\\\kishore_code\\\\VQA_RAD Image Folder\\\\\"\n",
    "addresses = [IMGDIR + img_id.split('/')[-1] for img_id in sampledata[\"IMAGEID\"]]"
   ]
  },
  {
   "cell_type": "code",
   "execution_count": 15,
   "metadata": {},
   "outputs": [],
   "source": [
    "# Split data into training and validation sets\n",
    "train_addresses, val_addresses, ytrain, ytest = train_test_split(addresses, labels, test_size=0.2, random_state=42)\n",
    "train_sequences, val_sequences, ytrain, ytest = train_test_split(sequences, labels, test_size=0.2, random_state=42)"
   ]
  },
  {
   "cell_type": "code",
   "execution_count": 16,
   "metadata": {},
   "outputs": [],
   "source": [
    "# Data augmentation and processing functions\n",
    "def augment_data(image):\n",
    "    image = Image.fromarray(image)\n",
    "    transform = transforms.Compose([\n",
    "        transforms.RandomRotation(20),\n",
    "        transforms.RandomAffine(degrees=0, translate=(0.1, 0.1)),\n",
    "        transforms.ToTensor()\n",
    "    ])\n",
    "    return transform(image)\n",
    "\n",
    "def process_data(image_path, text_sequence, label):\n",
    "    image = cv2.imread(image_path)\n",
    "    image = cv2.cvtColor(image, cv2.COLOR_BGR2RGB)\n",
    "    image = cv2.resize(image, (224, 224))\n",
    "    image = augment_data(image)\n",
    "    text_sequence = torch.tensor(text_sequence, dtype=torch.long)\n",
    "    label = torch.tensor(label, dtype=torch.float32)\n",
    "    return image, text_sequence, label"
   ]
  },
  {
   "cell_type": "code",
   "execution_count": 17,
   "metadata": {},
   "outputs": [],
   "source": [
    "class VQADataset(Dataset):\n",
    "    def __init__(self, addresses, sequences, labels):\n",
    "        self.addresses = addresses\n",
    "        self.sequences = sequences\n",
    "        self.labels = labels\n",
    "\n",
    "    def __len__(self):\n",
    "        return len(self.addresses)\n",
    "\n",
    "    def __getitem__(self, idx):\n",
    "        image, text_sequence, label = process_data(self.addresses[idx], self.sequences[idx], self.labels[idx])\n",
    "        return image, text_sequence, label"
   ]
  },
  {
   "cell_type": "code",
   "execution_count": 18,
   "metadata": {},
   "outputs": [],
   "source": [
    "BATCH_SIZE = 32\n",
    "BUFFER_SIZE = 500\n",
    "\n",
    "train_dataset = VQADataset(train_addresses, train_sequences, ytrain)\n",
    "val_dataset = VQADataset(val_addresses, val_sequences, ytest)\n",
    "\n",
    "train_loader = DataLoader(train_dataset, batch_size=BATCH_SIZE, shuffle=True)\n",
    "val_loader = DataLoader(val_dataset, batch_size=BATCH_SIZE, shuffle=False)"
   ]
  },
  {
   "cell_type": "code",
   "execution_count": 19,
   "metadata": {},
   "outputs": [],
   "source": [
    "# Define the Self-Attention layer\n",
    "class SelfAttention(nn.Module):\n",
    "    def __init__(self, embed_dim):\n",
    "        super(SelfAttention, self).__init__()\n",
    "        self.query = nn.Linear(embed_dim, embed_dim)\n",
    "        self.key = nn.Linear(embed_dim, embed_dim)\n",
    "        self.value = nn.Linear(embed_dim, embed_dim)\n",
    "        self.softmax = nn.Softmax(dim=-1)\n",
    "\n",
    "    def forward(self, x):\n",
    "        Q = self.query(x)\n",
    "        K = self.key(x)\n",
    "        V = self.value(x)\n",
    "        attention_weights = self.softmax(torch.bmm(Q, K.transpose(1, 2)) / (x.size(-1) ** 0.5))\n",
    "        attention_output = torch.bmm(attention_weights, V)\n",
    "        return attention_output"
   ]
  },
  {
   "cell_type": "code",
   "execution_count": 20,
   "metadata": {},
   "outputs": [],
   "source": [
    "# Define the model class\n",
    "class CustomCNNModel(nn.Module):\n",
    "    def __init__(self, vocab_size, embedding_dim=64, hidden_size=64, num_layers=2):\n",
    "        super(CustomCNNModel, self).__init__()\n",
    "        # Image branch\n",
    "        self.image_branch = nn.Sequential(\n",
    "            nn.Conv2d(3, 64, kernel_size=3, padding='same'),\n",
    "            nn.ReLU(),\n",
    "            nn.MaxPool2d(2, 2),\n",
    "            nn.Dropout(0.4),\n",
    "            nn.Conv2d(64, 128, kernel_size=3, padding='same'),\n",
    "            nn.ReLU(),\n",
    "            nn.MaxPool2d(2, 2),\n",
    "            nn.Dropout(0.3),\n",
    "            nn.Conv2d(128, 256, kernel_size=3, padding='same'),\n",
    "            nn.ReLU(),\n",
    "            nn.MaxPool2d(2, 2),\n",
    "            nn.Dropout(0.3),\n",
    "            nn.Flatten()\n",
    "        )\n",
    "\n",
    "        # Text branch\n",
    "        self.text_branch = nn.Embedding(vocab_size, embedding_dim)\n",
    "        self.lstm = nn.LSTM(embedding_dim, hidden_size, num_layers, batch_first=True)\n",
    "\n",
    "        # Attention layer\n",
    "        self.attention_layer = SelfAttention(embed_dim=hidden_size)\n",
    "\n",
    "        # Combined branch\n",
    "        self.combined_branch = nn.Sequential(\n",
    "            nn.Dropout(0.4),\n",
    "            nn.Linear(200704 + hidden_size, 512),\n",
    "            nn.ReLU(),\n",
    "            nn.Linear(512, 256),\n",
    "            nn.ReLU(),\n",
    "            nn.Linear(256, 128),\n",
    "            nn.ReLU(),\n",
    "            nn.Linear(128, 1),\n",
    "            nn.Sigmoid()\n",
    "        )\n",
    "\n",
    "    def forward(self, images, texts):\n",
    "        img_features = self.image_branch(images)\n",
    "        text_features = self.text_branch(texts)\n",
    "        text_features, _ = self.lstm(text_features)\n",
    "        text_features = self.attention_layer(text_features)\n",
    "        text_features = text_features[:, -1, :]  # Get the last hidden state\n",
    "        combined_features = torch.cat((img_features, text_features), dim=1)\n",
    "        output = self.combined_branch(combined_features)\n",
    "        return output"
   ]
  },
  {
   "cell_type": "code",
   "execution_count": 21,
   "metadata": {},
   "outputs": [
    {
     "name": "stdout",
     "output_type": "stream",
     "text": [
      "cuda\n"
     ]
    }
   ],
   "source": [
    "device = torch.device('cuda' if torch.cuda.is_available() else 'cpu')\n",
    "print(device)"
   ]
  },
  {
   "cell_type": "code",
   "execution_count": 22,
   "metadata": {},
   "outputs": [
    {
     "name": "stdout",
     "output_type": "stream",
     "text": [
      "820\n"
     ]
    }
   ],
   "source": [
    "#Define vocabulary size\n",
    "vocab_size = sequences.max() + 1 \n",
    "print(vocab_size)"
   ]
  },
  {
   "cell_type": "code",
   "execution_count": 23,
   "metadata": {},
   "outputs": [],
   "source": [
    "# Define the model\n",
    "model = CustomCNNModel(vocab_size).to(device)"
   ]
  },
  {
   "cell_type": "code",
   "execution_count": 24,
   "metadata": {},
   "outputs": [
    {
     "name": "stdout",
     "output_type": "stream",
     "text": [
      "CustomCNNModel(\n",
      "  (image_branch): Sequential(\n",
      "    (0): Conv2d(3, 64, kernel_size=(3, 3), stride=(1, 1), padding=same)\n",
      "    (1): ReLU()\n",
      "    (2): MaxPool2d(kernel_size=2, stride=2, padding=0, dilation=1, ceil_mode=False)\n",
      "    (3): Dropout(p=0.4, inplace=False)\n",
      "    (4): Conv2d(64, 128, kernel_size=(3, 3), stride=(1, 1), padding=same)\n",
      "    (5): ReLU()\n",
      "    (6): MaxPool2d(kernel_size=2, stride=2, padding=0, dilation=1, ceil_mode=False)\n",
      "    (7): Dropout(p=0.3, inplace=False)\n",
      "    (8): Conv2d(128, 256, kernel_size=(3, 3), stride=(1, 1), padding=same)\n",
      "    (9): ReLU()\n",
      "    (10): MaxPool2d(kernel_size=2, stride=2, padding=0, dilation=1, ceil_mode=False)\n",
      "    (11): Dropout(p=0.3, inplace=False)\n",
      "    (12): Flatten(start_dim=1, end_dim=-1)\n",
      "  )\n",
      "  (text_branch): Embedding(820, 64)\n",
      "  (lstm): LSTM(64, 64, num_layers=2, batch_first=True)\n",
      "  (attention_layer): SelfAttention(\n",
      "    (query): Linear(in_features=64, out_features=64, bias=True)\n",
      "    (key): Linear(in_features=64, out_features=64, bias=True)\n",
      "    (value): Linear(in_features=64, out_features=64, bias=True)\n",
      "    (softmax): Softmax(dim=-1)\n",
      "  )\n",
      "  (combined_branch): Sequential(\n",
      "    (0): Dropout(p=0.4, inplace=False)\n",
      "    (1): Linear(in_features=200768, out_features=512, bias=True)\n",
      "    (2): ReLU()\n",
      "    (3): Linear(in_features=512, out_features=256, bias=True)\n",
      "    (4): ReLU()\n",
      "    (5): Linear(in_features=256, out_features=128, bias=True)\n",
      "    (6): ReLU()\n",
      "    (7): Linear(in_features=128, out_features=1, bias=True)\n",
      "    (8): Sigmoid()\n",
      "  )\n",
      ")\n"
     ]
    }
   ],
   "source": [
    "# Print model summary\n",
    "print(model)"
   ]
  },
  {
   "cell_type": "code",
   "execution_count": 25,
   "metadata": {},
   "outputs": [],
   "source": [
    "# Define the loss function and optimizer\n",
    "criterion = nn.BCELoss()\n",
    "optimizer = optim.Adam(model.parameters())"
   ]
  },
  {
   "cell_type": "code",
   "execution_count": 26,
   "metadata": {},
   "outputs": [
    {
     "name": "stdout",
     "output_type": "stream",
     "text": [
      "Epoch 0/24, Loss: 0.7026, Accuracy: 0.5173\n",
      "Epoch 1/24, Loss: 0.6920, Accuracy: 0.5205\n",
      "Epoch 2/24, Loss: 0.6835, Accuracy: 0.5813\n",
      "Epoch 3/24, Loss: 0.6531, Accuracy: 0.6380\n",
      "Epoch 4/24, Loss: 0.6035, Accuracy: 0.6663\n",
      "Epoch 5/24, Loss: 0.5351, Accuracy: 0.7345\n",
      "Epoch 6/24, Loss: 0.4724, Accuracy: 0.7754\n",
      "Epoch 7/24, Loss: 0.4234, Accuracy: 0.8017\n",
      "Epoch 8/24, Loss: 0.3887, Accuracy: 0.8059\n",
      "Epoch 9/24, Loss: 0.3342, Accuracy: 0.8374\n",
      "Epoch 10/24, Loss: 0.2802, Accuracy: 0.8720\n",
      "Epoch 11/24, Loss: 0.2559, Accuracy: 0.8846\n",
      "Epoch 12/24, Loss: 0.2489, Accuracy: 0.8772\n",
      "Epoch 13/24, Loss: 0.2262, Accuracy: 0.8888\n",
      "Epoch 14/24, Loss: 0.2017, Accuracy: 0.8993\n",
      "Epoch 15/24, Loss: 0.1778, Accuracy: 0.9140\n",
      "Epoch 16/24, Loss: 0.1591, Accuracy: 0.9234\n",
      "Epoch 17/24, Loss: 0.1477, Accuracy: 0.9265\n",
      "Epoch 18/24, Loss: 0.1559, Accuracy: 0.9276\n",
      "Epoch 19/24, Loss: 0.1671, Accuracy: 0.9318\n",
      "Epoch 20/24, Loss: 0.1676, Accuracy: 0.9234\n",
      "Epoch 21/24, Loss: 0.1335, Accuracy: 0.9307\n",
      "Epoch 22/24, Loss: 0.1082, Accuracy: 0.9412\n",
      "Epoch 23/24, Loss: 0.1037, Accuracy: 0.9465\n",
      "Epoch 24/24, Loss: 0.0960, Accuracy: 0.9507\n"
     ]
    }
   ],
   "source": [
    "# Training loop\n",
    "num_epochs = 25\n",
    "train_accuracies = []\n",
    "val_accuracies = []\n",
    "for epoch in range(num_epochs):\n",
    "    model.train()\n",
    "    running_loss = 0.0\n",
    "    running_corrects = 0\n",
    "    \n",
    "    for images, texts, labels in train_loader:\n",
    "        images, texts, labels = images.to(device), texts.to(device), labels.to(device)\n",
    "        optimizer.zero_grad()\n",
    "        outputs = model(images, texts)\n",
    "        loss = criterion(outputs, labels.unsqueeze(1))\n",
    "        loss.backward()\n",
    "        optimizer.step()\n",
    "        \n",
    "        running_loss += loss.item() * images.size(0)\n",
    "        preds = torch.round(outputs)\n",
    "        running_corrects += torch.sum(preds == labels.unsqueeze(1))\n",
    "    \n",
    "    epoch_loss = running_loss / len(train_loader.dataset)\n",
    "    epoch_acc = running_corrects.double() / len(train_loader.dataset)\n",
    "    \n",
    "    print(f\"Epoch {epoch}/{num_epochs - 1}, Loss: {epoch_loss:.4f}, Accuracy: {epoch_acc:.4f}\")\n",
    "    \n",
    "    train_accuracies.append(epoch_acc.item())\n",
    "    \n",
    "    model.eval()\n",
    "    val_corrects = 0\n",
    "    with torch.no_grad():\n",
    "        for images, texts, labels in val_loader:\n",
    "            images, texts, labels = images.to(device), texts.to(device), labels.to(device)\n",
    "            outputs = model(images, texts)\n",
    "            preds = torch.round(outputs)\n",
    "            val_corrects += torch.sum(preds == labels.unsqueeze(1))\n",
    "    \n",
    "    val_acc = val_corrects.double() / len(val_loader.dataset)\n",
    "    val_accuracies.append(val_acc.item())"
   ]
  },
  {
   "cell_type": "code",
   "execution_count": 27,
   "metadata": {},
   "outputs": [
    {
     "data": {
      "image/png": "[encoded data removed]",
      "text/plain": [
       "<Figure size 640x480 with 1 Axes>"
      ]
     },
     "metadata": {},
     "output_type": "display_data"
    }
   ],
   "source": [
    "# Plot accuracy\n",
    "plt.plot(train_accuracies, label='Training Accuracy')\n",
    "plt.plot(val_accuracies, label='Validation Accuracy')\n",
    "plt.title('CNN with LSTM & Self-Attention Model Accuracy')\n",
    "plt.ylabel('Accuracy')\n",
    "plt.xlabel('Epoch')\n",
    "plt.legend(['train', 'validation'], loc='upper left')\n",
    "plt.show()"
   ]
  },
  {
   "cell_type": "code",
   "execution_count": 28,
   "metadata": {},
   "outputs": [
    {
     "name": "stdout",
     "output_type": "stream",
     "text": [
      "CNN with LSTM with SAM Evaluation Metrics\n",
      "Validation Accuracy: 0.6862\n",
      "Validation Precision: 0.6693\n",
      "Validation Recall: 0.7203\n",
      "Validation F1 Score: 0.6939\n"
     ]
    }
   ],
   "source": [
    "# Evaluate model on validation data\n",
    "val_labels = []\n",
    "val_predictions = []\n",
    "\n",
    "with torch.no_grad():\n",
    "    for images, texts, labels in val_loader:\n",
    "        images, texts, labels = images.to(device), texts.to(device), labels.to(device)\n",
    "        outputs = model(images, texts)\n",
    "        preds = torch.round(outputs).cpu().numpy()\n",
    "        val_predictions.extend(preds)\n",
    "        val_labels.extend(labels.cpu().numpy())\n",
    "\n",
    "val_predictions = np.array(val_predictions).flatten()\n",
    "val_labels = np.array(val_labels).flatten()\n",
    "\n",
    "accuracy = accuracy_score(val_labels, val_predictions)\n",
    "precision, recall, f1, _ = precision_recall_fscore_support(val_labels, val_predictions, average='binary')\n",
    "\n",
    "print(\"CNN with LSTM with SAM Evaluation Metrics\")\n",
    "print(f'Validation Accuracy: {accuracy:.4f}')\n",
    "print(f'Validation Precision: {precision:.4f}')\n",
    "print(f'Validation Recall: {recall:.4f}')\n",
    "print(f'Validation F1 Score: {f1:.4f}')"
   ]
  },
  {
   "cell_type": "code",
   "execution_count": 29,
   "metadata": {},
   "outputs": [
    {
     "data": {
      "image/png": "[encoded data removed]",
      "text/plain": [
       "<Figure size 800x600 with 1 Axes>"
      ]
     },
     "metadata": {},
     "output_type": "display_data"
    }
   ],
   "source": [
    "# Plot precision, recall, and F1-score\n",
    "metrics = {'Precision': precision, 'Recall': recall, 'F1-score': f1}\n",
    "plt.figure(figsize=(8, 6))\n",
    "plt.bar(metrics.keys(), metrics.values(), color=['blue', 'green', 'red'])\n",
    "plt.title('CNN with LSTM with SAM Evaluation Metrics')\n",
    "plt.ylabel('Score')\n",
    "plt.ylim(0, 1)\n",
    "plt.show()"
   ]
  },
  {
   "cell_type": "code",
   "execution_count": 30,
   "metadata": {},
   "outputs": [],
   "source": [
    "# Save model weights\n",
    "torch.save(model.state_dict(), \"CNN_LSTM_SAM_model.pth\")"
   ]
  }
 ],
 "metadata": {
  "kernelspec": {
   "display_name": "Python 3",
   "language": "python",
   "name": "python3"
  },
  "language_info": {
   "codemirror_mode": {
    "name": "ipython",
    "version": 3
   },
   "file_extension": ".py",
   "mimetype": "text/x-python",
   "name": "python",
   "nbconvert_exporter": "python",
   "pygments_lexer": "ipython3",
   "version": "3.9.13"
  }
 },
 "nbformat": 4,
 "nbformat_minor": 2
}
